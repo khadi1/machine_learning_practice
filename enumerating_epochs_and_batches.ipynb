{
  "nbformat": 4,
  "nbformat_minor": 0,
  "metadata": {
    "colab": {
      "provenance": [],
      "authorship_tag": "ABX9TyMOLpKuJm8k/l/cSKrQEcQC",
      "include_colab_link": true
    },
    "kernelspec": {
      "name": "python3",
      "display_name": "Python 3"
    },
    "language_info": {
      "name": "python"
    }
  },
  "cells": [
    {
      "cell_type": "markdown",
      "metadata": {
        "id": "view-in-github",
        "colab_type": "text"
      },
      "source": [
        "<a href=\"https://colab.research.google.com/github/khadi1/machine_learning_practice/blob/main/enumerating_epochs_and_batches.ipynb\" target=\"_parent\"><img src=\"https://colab.research.google.com/assets/colab-badge.svg\" alt=\"Open In Colab\"/></a>"
      ]
    },
    {
      "cell_type": "markdown",
      "source": [
        "\n",
        "cifar10 dataset<br> \n",
        "60,000 32×32 pixel images divided into 10 classes.<br>\n",
        "0: airplane<br>\n",
        "1: automobile<br>\n",
        "2: bird<br>\n",
        "3: cat<br>\n",
        "4: deer<br>\n",
        "5: dog<br>\n",
        "6: frog<br>\n",
        "7: horse<br>\n",
        "8: ship<br>\n",
        "9: truck<br>"
      ],
      "metadata": {
        "id": "acpRf63jIvT1"
      }
    },
    {
      "cell_type": "code",
      "source": [
        "import matplotlib.pyplot as plt\n",
        "from keras.models  import Sequential \n",
        "from keras.layers import BatchNormalization \n",
        "from keras.layers import Conv2D, MaxPooling2D, Dense, Flatten\n",
        "\n",
        "from keras.datasets import cifar10\n",
        "from keras.utils import normalize, to_categorical\n",
        "\n",
        "import time\n",
        "from numpy.random import randn\n",
        "from numpy.random import randint"
      ],
      "metadata": {
        "id": "VNAYOm8wEmNI"
      },
      "execution_count": 66,
      "outputs": []
    },
    {
      "cell_type": "code",
      "source": [
        "(X_train , y_train) , (X_test , y_test) = cifar10.load_data()"
      ],
      "metadata": {
        "id": "D4s_dcw9cE7h"
      },
      "execution_count": 67,
      "outputs": []
    },
    {
      "cell_type": "code",
      "source": [
        "rand_train_images = randint(0,X_train.shape[0] , 5000)\n",
        "rand_test_images = randint(0,X_train.shape[0] , 1000)"
      ],
      "metadata": {
        "id": "qMbmK5C1G50U"
      },
      "execution_count": 70,
      "outputs": []
    },
    {
      "cell_type": "code",
      "source": [
        "X_train = X_train[rand_train_images]\n",
        "y_train = y_train[rand_train_images]\n",
        "X_test = X_test[rand_test_images]\n",
        "y_test = y_test[rand_test_images]"
      ],
      "metadata": {
        "id": "FcXBgY5FIEjI"
      },
      "execution_count": 71,
      "outputs": []
    },
    {
      "cell_type": "code",
      "source": [
        "X_train= normalize(X_train, axis  = 1)\n",
        "X_train= normalize(X_train, axis  = 1)"
      ],
      "metadata": {
        "id": "gfDwxjFXIIWa"
      },
      "execution_count": 72,
      "outputs": []
    },
    {
      "cell_type": "code",
      "source": [
        "y_train[0] , y_test[0]"
      ],
      "metadata": {
        "colab": {
          "base_uri": "https://localhost:8080/"
        },
        "id": "8Y7kmHk5J6Jl",
        "outputId": "b301e9f9-fd3c-4804-c7cc-882b9d486225"
      },
      "execution_count": 73,
      "outputs": [
        {
          "output_type": "execute_result",
          "data": {
            "text/plain": [
              "(array([4], dtype=uint8), array([4], dtype=uint8))"
            ]
          },
          "metadata": {},
          "execution_count": 73
        }
      ]
    },
    {
      "cell_type": "code",
      "source": [
        "y_train = to_categorical(y_train)\n",
        "y_test = to_categorical(y_test)"
      ],
      "metadata": {
        "id": "e0HJKLYTIWUT"
      },
      "execution_count": 74,
      "outputs": []
    },
    {
      "cell_type": "code",
      "source": [
        "y_train[0] , y_test[0]"
      ],
      "metadata": {
        "colab": {
          "base_uri": "https://localhost:8080/"
        },
        "id": "1_0fLVHlIhgB",
        "outputId": "9e96cab6-c3ca-4de5-9396-93f9ae62c6d0"
      },
      "execution_count": 75,
      "outputs": [
        {
          "output_type": "execute_result",
          "data": {
            "text/plain": [
              "(array([0., 0., 0., 0., 1., 0., 0., 0., 0., 0.], dtype=float32),\n",
              " array([0., 0., 0., 0., 1., 0., 0., 0., 0., 0.], dtype=float32))"
            ]
          },
          "metadata": {},
          "execution_count": 75
        }
      ]
    },
    {
      "cell_type": "code",
      "source": [
        "X_train[0].shape"
      ],
      "metadata": {
        "colab": {
          "base_uri": "https://localhost:8080/"
        },
        "id": "FvzhF1NYOH0h",
        "outputId": "d66dee28-0b59-4e24-c0c9-6e0e812c73bb"
      },
      "execution_count": 76,
      "outputs": [
        {
          "output_type": "execute_result",
          "data": {
            "text/plain": [
              "(32, 32, 3)"
            ]
          },
          "metadata": {},
          "execution_count": 76
        }
      ]
    },
    {
      "cell_type": "markdown",
      "source": [
        "# Model Building\n",
        "\n"
      ],
      "metadata": {
        "id": "mHVZ503LKZ3i"
      }
    },
    {
      "cell_type": "code",
      "source": [
        "activation = 'sigmoid'\n",
        "model = Sequential()\n",
        "model.add(Conv2D(32 , 3 , activation = activation , padding = 'same' , input_shape = (32, 32, 3) ))\n",
        "model.add(BatchNormalization())\n",
        "\n",
        "model.add(Conv2D(32, 3, activation = activation, padding = 'same', kernel_initializer = 'he_uniform'))\n",
        "model.add(BatchNormalization())\n",
        "model.add(MaxPooling2D())\n",
        "\n",
        "model.add(Conv2D(64, 3, activation = activation, padding = 'same', kernel_initializer = 'he_uniform'))\n",
        "model.add(BatchNormalization())\n",
        "\n",
        "model.add(Conv2D(64, 3, activation = activation, padding = 'same', kernel_initializer = 'he_uniform'))\n",
        "model.add(BatchNormalization()) \n",
        "model.add(MaxPooling2D())\n",
        "\n",
        "model.add(Flatten())\n",
        "model.add(Dense(128, activation = activation, kernel_initializer = 'he_uniform'))\n",
        "model.add(Dense(10, activation = 'softmax'))\n",
        "\n"
      ],
      "metadata": {
        "id": "XZqwFcRJKDt5"
      },
      "execution_count": 77,
      "outputs": []
    },
    {
      "cell_type": "code",
      "source": [
        "model.compile(optimizer = 'rmsprop' , loss = 'categorical_crossentropy'  ,metrics = ['accuracy'])\n",
        "print(model.summary())"
      ],
      "metadata": {
        "colab": {
          "base_uri": "https://localhost:8080/"
        },
        "id": "sWVvmSmHORis",
        "outputId": "f9beefbd-2ece-4417-8277-48c01f4e8166"
      },
      "execution_count": 78,
      "outputs": [
        {
          "output_type": "stream",
          "name": "stdout",
          "text": [
            "Model: \"sequential_2\"\n",
            "_________________________________________________________________\n",
            " Layer (type)                Output Shape              Param #   \n",
            "=================================================================\n",
            " conv2d_5 (Conv2D)           (None, 32, 32, 32)        896       \n",
            "                                                                 \n",
            " batch_normalization_4 (Batc  (None, 32, 32, 32)       128       \n",
            " hNormalization)                                                 \n",
            "                                                                 \n",
            " conv2d_6 (Conv2D)           (None, 32, 32, 32)        9248      \n",
            "                                                                 \n",
            " batch_normalization_5 (Batc  (None, 32, 32, 32)       128       \n",
            " hNormalization)                                                 \n",
            "                                                                 \n",
            " max_pooling2d_2 (MaxPooling  (None, 16, 16, 32)       0         \n",
            " 2D)                                                             \n",
            "                                                                 \n",
            " conv2d_7 (Conv2D)           (None, 16, 16, 64)        18496     \n",
            "                                                                 \n",
            " batch_normalization_6 (Batc  (None, 16, 16, 64)       256       \n",
            " hNormalization)                                                 \n",
            "                                                                 \n",
            " conv2d_8 (Conv2D)           (None, 16, 16, 64)        36928     \n",
            "                                                                 \n",
            " batch_normalization_7 (Batc  (None, 16, 16, 64)       256       \n",
            " hNormalization)                                                 \n",
            "                                                                 \n",
            " max_pooling2d_3 (MaxPooling  (None, 8, 8, 64)         0         \n",
            " 2D)                                                             \n",
            "                                                                 \n",
            " flatten_1 (Flatten)         (None, 4096)              0         \n",
            "                                                                 \n",
            " dense_2 (Dense)             (None, 128)               524416    \n",
            "                                                                 \n",
            " dense_3 (Dense)             (None, 10)                1290      \n",
            "                                                                 \n",
            "=================================================================\n",
            "Total params: 592,042\n",
            "Trainable params: 591,658\n",
            "Non-trainable params: 384\n",
            "_________________________________________________________________\n",
            "None\n"
          ]
        }
      ]
    },
    {
      "cell_type": "code",
      "source": [
        "model1 = model "
      ],
      "metadata": {
        "id": "q09snyD6gqF1"
      },
      "execution_count": 79,
      "outputs": []
    },
    {
      "cell_type": "code",
      "source": [
        "history = model.fit(X_train , y_train , epochs= 10 , batch_size = 16 , validation_data = (X_test , y_test))"
      ],
      "metadata": {
        "colab": {
          "base_uri": "https://localhost:8080/"
        },
        "id": "FC_sftfvg4dJ",
        "outputId": "9f65ac69-a1f2-48ba-c4ea-5e1f8b5231ed"
      },
      "execution_count": 80,
      "outputs": [
        {
          "output_type": "stream",
          "name": "stdout",
          "text": [
            "Epoch 1/10\n",
            "313/313 [==============================] - 49s 138ms/step - loss: 1.8129 - accuracy: 0.3662 - val_loss: 2.3701 - val_accuracy: 0.2520\n",
            "Epoch 2/10\n",
            "313/313 [==============================] - 39s 124ms/step - loss: 1.2938 - accuracy: 0.5578 - val_loss: 2.1091 - val_accuracy: 0.3080\n",
            "Epoch 3/10\n",
            "313/313 [==============================] - 40s 129ms/step - loss: 0.9650 - accuracy: 0.6800 - val_loss: 2.4096 - val_accuracy: 0.2970\n",
            "Epoch 4/10\n",
            "313/313 [==============================] - 39s 124ms/step - loss: 0.7057 - accuracy: 0.7864 - val_loss: 2.3079 - val_accuracy: 0.2900\n",
            "Epoch 5/10\n",
            "313/313 [==============================] - 40s 129ms/step - loss: 0.4638 - accuracy: 0.8714 - val_loss: 2.5505 - val_accuracy: 0.3000\n",
            "Epoch 6/10\n",
            "313/313 [==============================] - 39s 125ms/step - loss: 0.2930 - accuracy: 0.9258 - val_loss: 2.8700 - val_accuracy: 0.2860\n",
            "Epoch 7/10\n",
            "313/313 [==============================] - 39s 124ms/step - loss: 0.1755 - accuracy: 0.9624 - val_loss: 3.2283 - val_accuracy: 0.2530\n",
            "Epoch 8/10\n",
            "313/313 [==============================] - 39s 125ms/step - loss: 0.0956 - accuracy: 0.9846 - val_loss: 2.4955 - val_accuracy: 0.3510\n",
            "Epoch 9/10\n",
            "313/313 [==============================] - 40s 129ms/step - loss: 0.0531 - accuracy: 0.9924 - val_loss: 3.7987 - val_accuracy: 0.3040\n",
            "Epoch 10/10\n",
            "313/313 [==============================] - 39s 124ms/step - loss: 0.0329 - accuracy: 0.9964 - val_loss: 6.0128 - val_accuracy: 0.1730\n"
          ]
        }
      ]
    },
    {
      "cell_type": "code",
      "source": [
        "loss = history.history['loss']\n",
        "val_loss = history.history['val_loss']\n",
        "epochs = range(1 , len(loss)+1 )\n",
        "plt.plot(epochs , loss , 'y' , label = 'Training loss')\n",
        "plt.plot(epochs, val_loss, 'r', label='Validation loss')\n",
        "plt.title('Training and validation loss')\n",
        "plt.xlabel('Epochs')\n",
        "plt.ylabel('Loss')\n",
        "plt.legend()\n",
        "plt.show()"
      ],
      "metadata": {
        "colab": {
          "base_uri": "https://localhost:8080/",
          "height": 295
        },
        "id": "_ajij9XohJEK",
        "outputId": "1c46c0c4-66cc-48cf-b242-66db68adb36e"
      },
      "execution_count": 81,
      "outputs": [
        {
          "output_type": "display_data",
          "data": {
            "text/plain": [
              "<Figure size 432x288 with 1 Axes>"
            ],
            "image/png": "[encoded data removed]"
          },
          "metadata": {
            "needs_background": "light"
          }
        }
      ]
    },
    {
      "cell_type": "code",
      "source": [
        "acc = history.history['accuracy']\n",
        "val_acc = history.history['val_accuracy']\n",
        "plt.plot(epochs, acc, 'y', label='Training acc')\n",
        "plt.plot(epochs, val_acc, 'r', label='Validation acc')\n",
        "plt.title('Training and validation accuracy')\n",
        "plt.xlabel('Epochs')\n",
        "plt.ylabel('Accuracy')\n",
        "plt.legend()\n",
        "plt.show()"
      ],
      "metadata": {
        "colab": {
          "base_uri": "https://localhost:8080/",
          "height": 295
        },
        "id": "YDxzVzHviStj",
        "outputId": "59f4095e-011f-4c88-eafa-f85c022a127c"
      },
      "execution_count": 82,
      "outputs": [
        {
          "output_type": "display_data",
          "data": {
            "text/plain": [
              "<Figure size 432x288 with 1 Axes>"
            ],
            "image/png": "[encoded data removed]"
          },
          "metadata": {
            "needs_background": "light"
          }
        }
      ]
    },
    {
      "cell_type": "markdown",
      "source": [
        "#Training using epoch and batch enumeration"
      ],
      "metadata": {
        "id": "nzJ1DvyaiaDs"
      }
    },
    {
      "cell_type": "code",
      "source": [
        "def fetch_batch(X, y, batch_size, batch):\n",
        "    start = batch*batch_size\n",
        "    \n",
        "    X_batch = X[start:start+batch_size, :, :]\n",
        "    y_batch = y[start:start+batch_size, :]\n",
        "    \n",
        "    return X_batch, y_batch"
      ],
      "metadata": {
        "id": "8-I0c60mibrd"
      },
      "execution_count": 83,
      "outputs": []
    },
    {
      "cell_type": "code",
      "source": [
        "\n",
        "batch_size = 16\n",
        "loss_history = []\n",
        "val_loss_history = []\n",
        "acc_history = []\n",
        "val_acc_history = []\n",
        "n_epochs = 10"
      ],
      "metadata": {
        "id": "GTKL2wmbjFPu"
      },
      "execution_count": 84,
      "outputs": []
    },
    {
      "cell_type": "code",
      "source": [
        "from tqdm import tqdm\n",
        "from sklearn.utils import shuffle"
      ],
      "metadata": {
        "id": "CxfPMcyxjKU0"
      },
      "execution_count": 85,
      "outputs": []
    },
    {
      "cell_type": "code",
      "source": [
        "for epoch in range(n_epochs):\n",
        "    X, y = shuffle(X_train, y_train, random_state = epoch**2)\n",
        "    for batch in tqdm(range(len(X_train) //batch_size)):\n",
        "    \n",
        "        X_batch, y_batch = fetch_batch(X, y, batch_size, batch)\n",
        "        loss, acc = model1.train_on_batch(X_batch, y_batch)\n",
        "    \n",
        "    loss_history.append(loss)\n",
        "    acc_history.append(acc)\n",
        "    \n",
        "    # Run validtion at the end of each epoch.\n",
        "    y_pred = model1.predict(X_test)\n",
        "    val_loss, val_acc = model1.evaluate(X_test, y_test)\n",
        "    val_loss_history.append(val_loss)\n",
        "    val_acc_history.append(val_acc)\n",
        "        "
      ],
      "metadata": {
        "colab": {
          "base_uri": "https://localhost:8080/"
        },
        "id": "4K_B1ktYjOIX",
        "outputId": "8e736856-4b0f-42db-eb16-2dc2265a7b97"
      },
      "execution_count": 86,
      "outputs": [
        {
          "output_type": "stream",
          "name": "stderr",
          "text": [
            "100%|██████████| 312/312 [00:39<00:00,  7.96it/s]\n"
          ]
        },
        {
          "output_type": "stream",
          "name": "stdout",
          "text": [
            "32/32 [==============================] - 2s 57ms/step\n",
            "32/32 [==============================] - 2s 58ms/step - loss: 4.9581 - accuracy: 0.2170\n"
          ]
        },
        {
          "output_type": "stream",
          "name": "stderr",
          "text": [
            "100%|██████████| 312/312 [00:40<00:00,  7.76it/s]\n"
          ]
        },
        {
          "output_type": "stream",
          "name": "stdout",
          "text": [
            "32/32 [==============================] - 2s 58ms/step\n",
            "32/32 [==============================] - 2s 58ms/step - loss: 4.2638 - accuracy: 0.2650\n"
          ]
        },
        {
          "output_type": "stream",
          "name": "stderr",
          "text": [
            "100%|██████████| 312/312 [00:39<00:00,  7.97it/s]\n"
          ]
        },
        {
          "output_type": "stream",
          "name": "stdout",
          "text": [
            "32/32 [==============================] - 2s 57ms/step\n",
            "32/32 [==============================] - 2s 57ms/step - loss: 5.4052 - accuracy: 0.2500\n"
          ]
        },
        {
          "output_type": "stream",
          "name": "stderr",
          "text": [
            "100%|██████████| 312/312 [00:39<00:00,  7.98it/s]\n"
          ]
        },
        {
          "output_type": "stream",
          "name": "stdout",
          "text": [
            "32/32 [==============================] - 2s 56ms/step\n",
            "32/32 [==============================] - 2s 57ms/step - loss: 4.2537 - accuracy: 0.3130\n"
          ]
        },
        {
          "output_type": "stream",
          "name": "stderr",
          "text": [
            "100%|██████████| 312/312 [00:39<00:00,  8.00it/s]\n"
          ]
        },
        {
          "output_type": "stream",
          "name": "stdout",
          "text": [
            "32/32 [==============================] - 2s 70ms/step\n",
            "32/32 [==============================] - 3s 81ms/step - loss: 4.4869 - accuracy: 0.3180\n"
          ]
        },
        {
          "output_type": "stream",
          "name": "stderr",
          "text": [
            "100%|██████████| 312/312 [00:38<00:00,  8.04it/s]\n"
          ]
        },
        {
          "output_type": "stream",
          "name": "stdout",
          "text": [
            "32/32 [==============================] - 2s 57ms/step\n",
            "32/32 [==============================] - 2s 59ms/step - loss: 5.0265 - accuracy: 0.3010\n"
          ]
        },
        {
          "output_type": "stream",
          "name": "stderr",
          "text": [
            "100%|██████████| 312/312 [00:38<00:00,  8.06it/s]\n"
          ]
        },
        {
          "output_type": "stream",
          "name": "stdout",
          "text": [
            "32/32 [==============================] - 2s 57ms/step\n",
            "32/32 [==============================] - 2s 58ms/step - loss: 4.8702 - accuracy: 0.3000\n"
          ]
        },
        {
          "output_type": "stream",
          "name": "stderr",
          "text": [
            "100%|██████████| 312/312 [00:39<00:00,  7.97it/s]\n"
          ]
        },
        {
          "output_type": "stream",
          "name": "stdout",
          "text": [
            "32/32 [==============================] - 2s 59ms/step\n",
            "32/32 [==============================] - 2s 58ms/step - loss: 6.8123 - accuracy: 0.2300\n"
          ]
        },
        {
          "output_type": "stream",
          "name": "stderr",
          "text": [
            "100%|██████████| 312/312 [00:40<00:00,  7.80it/s]\n"
          ]
        },
        {
          "output_type": "stream",
          "name": "stdout",
          "text": [
            "32/32 [==============================] - 2s 58ms/step\n",
            "32/32 [==============================] - 2s 59ms/step - loss: 5.9893 - accuracy: 0.2880\n"
          ]
        },
        {
          "output_type": "stream",
          "name": "stderr",
          "text": [
            "100%|██████████| 312/312 [00:39<00:00,  7.89it/s]\n"
          ]
        },
        {
          "output_type": "stream",
          "name": "stdout",
          "text": [
            "32/32 [==============================] - 2s 57ms/step\n",
            "32/32 [==============================] - 2s 59ms/step - loss: 8.1067 - accuracy: 0.2330\n"
          ]
        }
      ]
    },
    {
      "cell_type": "code",
      "source": [
        "print('Epoch: %d, Train Loss %.3f, Train Acc. %.3f, Val Loss %.3f, Val Acc. %.3f' %\n",
        "\t\t\t(epoch+1, loss, acc, val_loss, val_acc))"
      ],
      "metadata": {
        "colab": {
          "base_uri": "https://localhost:8080/"
        },
        "id": "G7eQFR81jXgT",
        "outputId": "f53062bd-cfcc-4677-b1c0-7ed2f79a9782"
      },
      "execution_count": 87,
      "outputs": [
        {
          "output_type": "stream",
          "name": "stdout",
          "text": [
            "Epoch: 10, Train Loss 0.000, Train Acc. 1.000, Val Loss 8.107, Val Acc. 0.233\n"
          ]
        }
      ]
    },
    {
      "cell_type": "code",
      "source": [
        "\n",
        "epochs = range(1, len(loss_history) + 1)\n",
        "\n",
        "plt.plot(epochs, loss_history, 'y', label='Training loss')\n",
        "plt.plot(epochs, val_loss_history, 'r', label='Validation loss')\n",
        "plt.title('Training and validation loss')\n",
        "plt.xlabel('Epochs')\n",
        "plt.ylabel('Loss')\n",
        "plt.legend()\n",
        "plt.show()"
      ],
      "metadata": {
        "colab": {
          "base_uri": "https://localhost:8080/",
          "height": 295
        },
        "id": "YodeaEM2j1Yn",
        "outputId": "38b089be-ebeb-4208-ed0a-d965baed722a"
      },
      "execution_count": 88,
      "outputs": [
        {
          "output_type": "display_data",
          "data": {
            "text/plain": [
              "<Figure size 432x288 with 1 Axes>"
            ],
            "image/png": "[encoded data removed]"
          },
          "metadata": {
            "needs_background": "light"
          }
        }
      ]
    },
    {
      "cell_type": "code",
      "source": [
        "plt.plot(epochs, acc_history, 'y', label='Training acc')\n",
        "plt.plot(epochs, val_acc_history, 'r', label='Validation acc')\n",
        "plt.title('Training and validation accuracy')\n",
        "plt.xlabel('Epochs')\n",
        "plt.ylabel('Accuracy')\n",
        "plt.legend()\n",
        "plt.show()"
      ],
      "metadata": {
        "colab": {
          "base_uri": "https://localhost:8080/",
          "height": 295
        },
        "id": "FG_N257zj4iC",
        "outputId": "0c34adae-29a0-4645-ccba-de749f2f90b7"
      },
      "execution_count": 89,
      "outputs": [
        {
          "output_type": "display_data",
          "data": {
            "text/plain": [
              "<Figure size 432x288 with 1 Axes>"
            ],
            "image/png": "[encoded data removed]"
          },
          "metadata": {
            "needs_background": "light"
          }
        }
      ]
    },
    {
      "cell_type": "code",
      "source": [],
      "metadata": {
        "id": "9m2xvuSpj6TC"
      },
      "execution_count": 89,
      "outputs": []
    }
  ]
}