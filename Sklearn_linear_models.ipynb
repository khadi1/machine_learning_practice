{
  "nbformat": 4,
  "nbformat_minor": 0,
  "metadata": {
    "colab": {
      "provenance": [],
      "authorship_tag": "ABX9TyO6QDVyL1JlHV9cQLiEjyXn",
      "include_colab_link": true
    },
    "kernelspec": {
      "name": "python3",
      "display_name": "Python 3"
    },
    "language_info": {
      "name": "python"
    }
  },
  "cells": [
    {
      "cell_type": "markdown",
      "metadata": {
        "id": "view-in-github",
        "colab_type": "text"
      },
      "source": [
        "<a href=\"https://colab.research.google.com/github/khadi1/machine_learning_practice/blob/main/Sklearn_linear_models.ipynb\" target=\"_parent\"><img src=\"https://colab.research.google.com/assets/colab-badge.svg\" alt=\"Open In Colab\"/></a>"
      ]
    },
    {
      "cell_type": "markdown",
      "source": [
        "# Ordinary Least Squares"
      ],
      "metadata": {
        "id": "cKuYD5448Je9"
      }
    },
    {
      "cell_type": "code",
      "execution_count": 2,
      "metadata": {
        "colab": {
          "base_uri": "https://localhost:8080/"
        },
        "id": "aJHigGKy1n7d",
        "outputId": "ce613d20-feae-4608-f852-ca14ab4203ab"
      },
      "outputs": [
        {
          "output_type": "execute_result",
          "data": {
            "text/plain": [
              "array([0.5, 0.5])"
            ]
          },
          "metadata": {},
          "execution_count": 2
        }
      ],
      "source": [
        "from sklearn.linear_model import LinearRegression\n",
        "\n",
        "model =LinearRegression()\n",
        "model.fit([[0, 0], [1, 1], [2, 2]], [0, 1, 2])\n",
        "model.coef_"
      ]
    },
    {
      "cell_type": "code",
      "source": [
        "import matplotlib.pyplot as plt\n",
        "import numpy as np \n",
        "from sklearn.linear_model import LinearRegression\n",
        "from sklearn.datasets import load_diabetes\n",
        "from sklearn.metrics import mean_squared_error ,r2_score\n",
        "\n",
        "\n",
        "X ,y = load_diabetes(return_X_y= True)\n",
        "X= X[:, np.newaxis , 2]\n",
        "\n",
        "X_train =   X[ :-20]\n",
        "X_test = X[-20:]\n",
        "\n",
        "\n",
        "y_train = y[:-20]\n",
        "y_test = y[-20:]\n",
        "\n",
        "\n",
        "model = LinearRegression()\n",
        "model.fit(X_train , y_train)\n",
        "predictions = model.predict(X_test)\n",
        "\n",
        "\n",
        "print(\"Coefficients: \", model.coef_)\n",
        "print(mean_squared_error(predictions , y_test))\n",
        "print(r2_score(predictions, y_test))\n",
        "\n",
        "\n",
        "\n",
        "\n",
        "plt.scatter(X_test, y_test, color=\"black\")\n",
        "plt.plot(X_test, predictions, color=\"blue\", linewidth=3)\n",
        "\n",
        "plt.xticks(())\n",
        "plt.yticks(())\n",
        "\n",
        "plt.show()\n",
        "\n"
      ],
      "metadata": {
        "colab": {
          "base_uri": "https://localhost:8080/",
          "height": 304
        },
        "id": "tbne1o2720UW",
        "outputId": "447b7a43-04f5-4e55-ea6f-46aefcbbb53c"
      },
      "execution_count": 28,
      "outputs": [
        {
          "output_type": "stream",
          "name": "stdout",
          "text": [
            "Coefficients:  [938.23786125]\n",
            "2548.0723987259694\n",
            "-0.37084863968863835\n"
          ]
        },
        {
          "output_type": "display_data",
          "data": {
            "text/plain": [
              "<Figure size 432x288 with 1 Axes>"
            ],
            "image/png": "[encoded data removed]"
          },
          "metadata": {}
        }
      ]
    },
    {
      "cell_type": "markdown",
      "source": [
        "# Non-negative least squares"
      ],
      "metadata": {
        "id": "9eXJ5C0A7_jz"
      }
    },
    {
      "cell_type": "code",
      "source": [
        "import numpy  as np\n",
        "import matplotlib.pyplot as plt\n",
        "from sklearn.metrics import r2_score"
      ],
      "metadata": {
        "id": "Z38dTa7e4Qrl"
      },
      "execution_count": 29,
      "outputs": []
    },
    {
      "cell_type": "code",
      "source": [
        "np.random.seed(42)\n",
        "\n",
        "n_samples, n_features = 200, 50\n",
        "X = np.random.randn(n_samples, n_features)\n",
        "true_coef= 3*np.random.randn(n_features)\n",
        "true_coef[true_coef < 0] = 0\n",
        "y = np.dot (X, true_coef)\n",
        "y+=5*np.random.normal(size=y.shape[0])"
      ],
      "metadata": {
        "id": "cCPztwb-8ZqU"
      },
      "execution_count": 42,
      "outputs": []
    },
    {
      "cell_type": "code",
      "source": [
        "from sklearn.model_selection import train_test_split\n",
        "\n",
        "X_train, X_test, y_train, y_test = train_test_split(X, y, test_size=0.5)\n"
      ],
      "metadata": {
        "id": "9P3I2Bnc9-Nu"
      },
      "execution_count": 45,
      "outputs": []
    },
    {
      "cell_type": "code",
      "source": [
        "from sklearn.linear_model import LinearRegression\n",
        "\n",
        "model = LinearRegression( positive = True)\n",
        "model.fit(X_train , y_train)\n",
        "score = r2_score(model.predict(X_test) ,y_test)\n",
        "print(score)"
      ],
      "metadata": {
        "colab": {
          "base_uri": "https://localhost:8080/"
        },
        "id": "GkTBS99u-FNm",
        "outputId": "6db67395-2051-4d7d-94b9-25db9a7009a9"
      },
      "execution_count": 49,
      "outputs": [
        {
          "output_type": "stream",
          "name": "stdout",
          "text": [
            "0.8237141057929702\n"
          ]
        }
      ]
    },
    {
      "cell_type": "code",
      "source": [
        "\n",
        "model2 = LinearRegression( )\n",
        "model2.fit(X_train , y_train)\n",
        "score2 = r2_score(model2.predict(X_test) ,y_test)\n",
        "print(score2)"
      ],
      "metadata": {
        "colab": {
          "base_uri": "https://localhost:8080/"
        },
        "id": "dSXoeAJH-mqC",
        "outputId": "fb00f35d-d47a-4a7d-d0ec-1c56fe97b5b1"
      },
      "execution_count": 50,
      "outputs": [
        {
          "output_type": "stream",
          "name": "stdout",
          "text": [
            "0.7846767784628309\n"
          ]
        }
      ]
    },
    {
      "cell_type": "markdown",
      "source": [
        "Comparing the regression coefficients between OLS ( Ordinary Least Squares )and NNLS ( Non-Negative Least Squares)"
      ],
      "metadata": {
        "id": "b3NA7MPi-73K"
      }
    },
    {
      "cell_type": "code",
      "source": [
        "fig , ax = plt.subplots()\n",
        "ax.plot(model.coef_ , model2.coef_ , linewidth=  0 , marker ='.')\n",
        "\n",
        "low_x, high_x = ax.get_xlim()\n",
        "low_y, high_y = ax.get_ylim()\n",
        "\n",
        "low = max(low_x, low_y)\n",
        "high = min(high_x, high_y)\n",
        "\n",
        "ax.plot([low, high], [low, high], ls=\"--\", c=\".3\", alpha=0.5)\n",
        "\n",
        "ax.set_xlabel(\"OLS regression coefficients\", fontweight=\"bold\")\n",
        "ax.set_ylabel(\"NNLS regression coefficients\", fontweight=\"bold\")\n"
      ],
      "metadata": {
        "colab": {
          "base_uri": "https://localhost:8080/",
          "height": 296
        },
        "id": "8BuciIsh-05y",
        "outputId": "7fc0b513-5e8b-44ed-87fa-9305332251ff"
      },
      "execution_count": 54,
      "outputs": [
        {
          "output_type": "execute_result",
          "data": {
            "text/plain": [
              "Text(0, 0.5, 'NNLS regression coefficients')"
            ]
          },
          "metadata": {},
          "execution_count": 54
        },
        {
          "output_type": "display_data",
          "data": {
            "text/plain": [
              "<Figure size 432x288 with 1 Axes>"
            ],
            "image/png": "[encoded data removed]"
          },
          "metadata": {
            "needs_background": "light"
          }
        }
      ]
    },
    {
      "cell_type": "markdown",
      "source": [
        "# Ridge regression and classification\n",
        "### Regression"
      ],
      "metadata": {
        "id": "M-JdaHQbASYd"
      }
    },
    {
      "cell_type": "code",
      "source": [
        "import numpy as np   \n",
        "import pandas as pd\n",
        "import os\n",
        " \n",
        "import seaborn as sns\n",
        "from sklearn.linear_model import LinearRegression\n",
        "import matplotlib.pyplot as plt   \n",
        "import matplotlib.style\n",
        "plt.style.use('classic')"
      ],
      "metadata": {
        "id": "aK1wyeiR_oV9"
      },
      "execution_count": 54,
      "outputs": []
    },
    {
      "cell_type": "markdown",
      "source": [
        "https://www.mygreatlearning.com/blog/what-is-ridge-regression/"
      ],
      "metadata": {
        "id": "VF327boSOZi7"
      }
    }
  ]
}