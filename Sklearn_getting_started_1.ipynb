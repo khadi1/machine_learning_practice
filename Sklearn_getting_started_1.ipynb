{
  "nbformat": 4,
  "nbformat_minor": 0,
  "metadata": {
    "colab": {
      "provenance": [],
      "authorship_tag": "ABX9TyPSNPqG2z0YA4q4ZQRDBf0j",
      "include_colab_link": true
    },
    "kernelspec": {
      "name": "python3",
      "display_name": "Python 3"
    },
    "language_info": {
      "name": "python"
    }
  },
  "cells": [
    {
      "cell_type": "markdown",
      "metadata": {
        "id": "view-in-github",
        "colab_type": "text"
      },
      "source": [
        "<a href=\"https://colab.research.google.com/github/khadi1/machine_learning_practice/blob/main/Sklearn_getting_started_1.ipynb\" target=\"_parent\"><img src=\"https://colab.research.google.com/assets/colab-badge.svg\" alt=\"Open In Colab\"/></a>"
      ]
    },
    {
      "cell_type": "markdown",
      "source": [
        "#Fitting and predicting: estimator basics"
      ],
      "metadata": {
        "id": "HA2zzibw0WTh"
      }
    },
    {
      "cell_type": "code",
      "source": [
        "from sklearn.ensemble import RandomForestClassifier\n",
        "clf  = RandomForestClassifier(random_state = 0)\n",
        "X  = [[1,2,3] , [11,12,13]]\n",
        "y  = [0 , 1]\n",
        "\n",
        "clf.fit(X , y)\n",
        "clf.predict([[4, 5, 6], [14, 15, 16]])"
      ],
      "metadata": {
        "colab": {
          "base_uri": "https://localhost:8080/"
        },
        "id": "5bLZ8DMPrm72",
        "outputId": "50835a07-1252-49dc-953a-91f5a6f68dfb"
      },
      "execution_count": 1,
      "outputs": [
        {
          "output_type": "execute_result",
          "data": {
            "text/plain": [
              "array([0, 1])"
            ]
          },
          "metadata": {},
          "execution_count": 1
        }
      ]
    },
    {
      "cell_type": "markdown",
      "source": [
        "#Transformers and pre-processors"
      ],
      "metadata": {
        "id": "3EHv58WI0atT"
      }
    },
    {
      "cell_type": "code",
      "source": [
        "from sklearn.preprocessing  import StandardScaler\n",
        "\n",
        "X = [[0  , 15] , \n",
        "     [1 , -10]]\n",
        "\n",
        "StandardScaler().fit(X).transform(X)"
      ],
      "metadata": {
        "colab": {
          "base_uri": "https://localhost:8080/"
        },
        "id": "G3bB8XHRz51D",
        "outputId": "1d08bda4-468f-4d14-ed17-bb66f49a63df"
      },
      "execution_count": 2,
      "outputs": [
        {
          "output_type": "execute_result",
          "data": {
            "text/plain": [
              "array([[-1.,  1.],\n",
              "       [ 1., -1.]])"
            ]
          },
          "metadata": {},
          "execution_count": 2
        }
      ]
    },
    {
      "cell_type": "markdown",
      "source": [
        "# Pipelines: chaining pre-processors and estimators"
      ],
      "metadata": {
        "id": "70ysJwlC6_t3"
      }
    },
    {
      "cell_type": "code",
      "source": [
        "from sklearn.preprocessing import StandardScaler\n",
        "from sklearn.metrics import accuracy_score\n",
        "from sklearn.linear_model import LogisticRegression\n",
        "from sklearn.datasets import load_iris\n",
        "from sklearn.pipeline import make_pipeline\n",
        "from sklearn.model_selection import train_test_split\n",
        "\n",
        "\n",
        "\n",
        "pipe  = make_pipeline (\n",
        "    StandardScaler() ,\n",
        "    LogisticRegression()\n",
        ")\n",
        "\n",
        "\n",
        "X ,y  =  load_iris(return_X_y = True)\n",
        "X_train , X_val , y_train, y_val =train_test_split( X, y ,random_state = 0)\n",
        "\n",
        "\n",
        "pipe.fit(X_train , y_train)\n",
        "\n"
      ],
      "metadata": {
        "colab": {
          "base_uri": "https://localhost:8080/"
        },
        "id": "U7D9uIaf6Sp7",
        "outputId": "37e070ed-e6c2-4d2c-82a1-87d3700559fc"
      },
      "execution_count": 3,
      "outputs": [
        {
          "output_type": "execute_result",
          "data": {
            "text/plain": [
              "Pipeline(steps=[('standardscaler', StandardScaler()),\n",
              "                ('logisticregression', LogisticRegression())])"
            ]
          },
          "metadata": {},
          "execution_count": 3
        }
      ]
    },
    {
      "cell_type": "code",
      "source": [
        "accuracy_score(pipe.predict(X_val) , y_val)"
      ],
      "metadata": {
        "colab": {
          "base_uri": "https://localhost:8080/"
        },
        "id": "eoX2yQW6-IIq",
        "outputId": "0ea6e900-0abc-44eb-c6b4-c0eea372fb86"
      },
      "execution_count": 4,
      "outputs": [
        {
          "output_type": "execute_result",
          "data": {
            "text/plain": [
              "0.9736842105263158"
            ]
          },
          "metadata": {},
          "execution_count": 4
        }
      ]
    },
    {
      "cell_type": "code",
      "source": [
        "X  ,y = load_iris( return_X_y = True)\n",
        "X.shape , y.shape"
      ],
      "metadata": {
        "colab": {
          "base_uri": "https://localhost:8080/"
        },
        "id": "TReSYY74kYg6",
        "outputId": "21ac57dc-8cb2-4e6e-fe7a-d5431b97b3bd"
      },
      "execution_count": 5,
      "outputs": [
        {
          "output_type": "execute_result",
          "data": {
            "text/plain": [
              "((150, 4), (150,))"
            ]
          },
          "metadata": {},
          "execution_count": 5
        }
      ]
    },
    {
      "cell_type": "code",
      "source": [
        "X_train , X_test , y_train , y_test  = train_test_split(X , y  , test_size= 0.4 , random_state=0)\n",
        "X_train.shape, y_train.shape"
      ],
      "metadata": {
        "colab": {
          "base_uri": "https://localhost:8080/"
        },
        "id": "KF8V6HBdkiJi",
        "outputId": "aa65ff61-d1b5-47d3-bd8d-52983f722b0c"
      },
      "execution_count": 6,
      "outputs": [
        {
          "output_type": "execute_result",
          "data": {
            "text/plain": [
              "((90, 4), (90,))"
            ]
          },
          "metadata": {},
          "execution_count": 6
        }
      ]
    },
    {
      "cell_type": "code",
      "source": [
        "X_test.shape, y_test.shape"
      ],
      "metadata": {
        "colab": {
          "base_uri": "https://localhost:8080/"
        },
        "id": "1Xff5rHYkh0V",
        "outputId": "f7c76ed9-7b09-4688-dc19-33e264f8d50d"
      },
      "execution_count": 7,
      "outputs": [
        {
          "output_type": "execute_result",
          "data": {
            "text/plain": [
              "((60, 4), (60,))"
            ]
          },
          "metadata": {},
          "execution_count": 7
        }
      ]
    },
    {
      "cell_type": "code",
      "source": [
        "from sklearn import svm\n",
        "\n",
        "clf = svm.SVC( kernel='linear' , C=1).fit(X_train, y_train)\n",
        "clf.score(X_test , y_test)"
      ],
      "metadata": {
        "colab": {
          "base_uri": "https://localhost:8080/"
        },
        "id": "H_FV2VKdk7bh",
        "outputId": "bf05100c-8888-4c30-a738-00a9ea72e9b3"
      },
      "execution_count": 8,
      "outputs": [
        {
          "output_type": "execute_result",
          "data": {
            "text/plain": [
              "0.9666666666666667"
            ]
          },
          "metadata": {},
          "execution_count": 8
        }
      ]
    },
    {
      "cell_type": "markdown",
      "source": [
        "## Model evaluation"
      ],
      "metadata": {
        "id": "Qu224oo2-igs"
      }
    },
    {
      "cell_type": "code",
      "source": [
        "from sklearn.datasets import make_regression\n",
        "from sklearn.linear_model import LinearRegression\n",
        "from sklearn.model_selection import cross_validate\n",
        "\n",
        "X, y = make_regression(n_samples= 1000 , random_state= 42)\n",
        "lr = LinearRegression()\n",
        "scores  = cross_validate(lr, X , y , cv= 15)\n",
        "scores['test_score']\n"
      ],
      "metadata": {
        "colab": {
          "base_uri": "https://localhost:8080/"
        },
        "id": "zb_O_n3M-ZxY",
        "outputId": "349e7aa2-ecae-43c2-dacd-178f948cf23a"
      },
      "execution_count": 10,
      "outputs": [
        {
          "output_type": "execute_result",
          "data": {
            "text/plain": [
              "array([1., 1., 1., 1., 1., 1., 1., 1., 1., 1., 1., 1., 1., 1., 1.])"
            ]
          },
          "metadata": {},
          "execution_count": 10
        }
      ]
    },
    {
      "cell_type": "markdown",
      "source": [
        "# Automatic parameter searches"
      ],
      "metadata": {
        "id": "lbAltRKmmZv6"
      }
    },
    {
      "cell_type": "code",
      "source": [
        "from sklearn.datasets import fetch_california_housing\n",
        "from sklearn.ensemble import RandomForestRegressor\n",
        "from sklearn.model_selection import RandomizedSearchCV\n",
        "from sklearn.model_selection import train_test_split\n",
        "from scipy.stats import randint\n",
        "\n",
        "X, y = fetch_california_housing(return_X_y= True)\n",
        "X_train , X_test , y_train  , y_test  = train_test_split(X , y, random_state= 0)\n",
        "\n",
        "param_distributions = {'n_estimators' : randint(1,5) ,\n",
        "                       'max_depth' : randint(5,10)}\n",
        "\n",
        "search = RandomizedSearchCV(estimator = RandomForestRegressor(random_state= 0),\n",
        "                            n_iter = 5 , \n",
        "                            param_distributions= param_distributions,\n",
        "                            random_state= 0)\n",
        "\n"
      ],
      "metadata": {
        "id": "-5ite4RqmUs9"
      },
      "execution_count": 16,
      "outputs": []
    },
    {
      "cell_type": "code",
      "source": [
        "search.fit(X_train, y_train)"
      ],
      "metadata": {
        "colab": {
          "base_uri": "https://localhost:8080/"
        },
        "id": "0oNlhfWNtgkr",
        "outputId": "1f30c9b7-25e2-42af-a736-e503285595af"
      },
      "execution_count": 17,
      "outputs": [
        {
          "output_type": "execute_result",
          "data": {
            "text/plain": [
              "RandomizedSearchCV(estimator=RandomForestRegressor(random_state=0), n_iter=5,\n",
              "                   param_distributions={'max_depth': <scipy.stats._distn_infrastructure.rv_frozen object at 0x7f48a63ac640>,\n",
              "                                        'n_estimators': <scipy.stats._distn_infrastructure.rv_frozen object at 0x7f48a0b32f10>},\n",
              "                   random_state=0)"
            ]
          },
          "metadata": {},
          "execution_count": 17
        }
      ]
    },
    {
      "cell_type": "code",
      "source": [
        "search.best_params_"
      ],
      "metadata": {
        "colab": {
          "base_uri": "https://localhost:8080/"
        },
        "id": "5B6kmO1EuYAx",
        "outputId": "f7d29463-a4ed-4d50-d274-6323f785bd5c"
      },
      "execution_count": 18,
      "outputs": [
        {
          "output_type": "execute_result",
          "data": {
            "text/plain": [
              "{'max_depth': 9, 'n_estimators': 4}"
            ]
          },
          "metadata": {},
          "execution_count": 18
        }
      ]
    },
    {
      "cell_type": "code",
      "source": [
        "search.predict(X_test)\n",
        "search.score(X_test, y_test)"
      ],
      "metadata": {
        "colab": {
          "base_uri": "https://localhost:8080/"
        },
        "id": "P6TSWos4vv6F",
        "outputId": "491e7f49-125c-4f77-b27d-4922685eb11f"
      },
      "execution_count": 22,
      "outputs": [
        {
          "output_type": "execute_result",
          "data": {
            "text/plain": [
              "0.735363411343253"
            ]
          },
          "metadata": {},
          "execution_count": 22
        }
      ]
    },
    {
      "cell_type": "code",
      "source": [],
      "metadata": {
        "id": "RCTQrSfuv3lA"
      },
      "execution_count": null,
      "outputs": []
    }
  ]
}